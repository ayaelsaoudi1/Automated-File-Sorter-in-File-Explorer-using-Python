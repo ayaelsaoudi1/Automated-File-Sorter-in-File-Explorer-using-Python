{
 "cells": [
  {
   "cell_type": "markdown",
   "id": "76833df1-2a06-420d-951e-00d4fcc43b00",
   "metadata": {},
   "source": [
    "# Automated File Sorter in File Explorer\n",
    "\n",
    "This project automates the sorting of files in a specified directory based on their extensions. The sorted files are moved into categorized folders: \"xlsx files,\" \"images files,\" and \"text files.\"\n",
    "\n",
    "## Importing Required Libraries\n",
    "\n",
    "We'll start by importing the necessary libraries: `os` for interacting with the operating system and `shutil` for file operations.\n"
   ]
  },
  {
   "cell_type": "code",
   "execution_count": 7,
   "id": "144a10a1-384a-4c1d-81f4-547c7b3a9de7",
   "metadata": {},
   "outputs": [],
   "source": [
    "import os, shutil"
   ]
  },
  {
   "cell_type": "markdown",
   "id": "4c1f86b1-539a-4b31-9f29-cc074940fa67",
   "metadata": {},
   "source": [
    "## Defining the Path\n",
    "\n",
    "Next, we define the path where the files to be sorted are located. You can modify this path according to your directory structure.\n"
   ]
  },
  {
   "cell_type": "code",
   "execution_count": 8,
   "id": "ea79699e-c5cd-4be5-beaf-7eec6cfd86cb",
   "metadata": {},
   "outputs": [],
   "source": [
    "path = r\"C:/Users/user/Desktop/studying/1- python/python projects/dummy folder/\""
   ]
  },
  {
   "cell_type": "markdown",
   "id": "656b3c3d-c4cf-4c8e-ba21-b75128e5c750",
   "metadata": {},
   "source": [
    "## Listing Files in the Directory\n",
    "\n",
    "We will list all the files in the specified directory and prepare the folder names for sorting the files based on their extensions.\n"
   ]
  },
  {
   "cell_type": "code",
   "execution_count": 9,
   "id": "1be8fc05-f3f1-49f4-8099-c919d7cf8a15",
   "metadata": {},
   "outputs": [
    {
     "data": {
      "text/plain": [
       "['download.jpg', 'download.png', 'images files', 'text files', 'xlsx files']"
      ]
     },
     "execution_count": 9,
     "metadata": {},
     "output_type": "execute_result"
    }
   ],
   "source": [
    "file_name = os.listdir(path)\n",
    "os.listdir(path)"
   ]
  },
  {
   "cell_type": "markdown",
   "id": "b419ee1d-10f5-441d-8f33-b1e7283a87b2",
   "metadata": {},
   "source": [
    "## Creating Folders for Sorted Files\n",
    "\n",
    "Before sorting the files, we need to ensure that the target folders exist. If they do not exist, we will create them.\n"
   ]
  },
  {
   "cell_type": "code",
   "execution_count": 10,
   "id": "e17574b9-3cd7-4033-ace5-444526a2453d",
   "metadata": {},
   "outputs": [],
   "source": [
    "folder_names = [ 'xlsx files', 'images files', 'text files' ]\n",
    "\n",
    "for folder in folder_names:\n",
    "    if not os.path.exists(path + folder):\n",
    "        os.makedirs(path + folder)"
   ]
  },
  {
   "cell_type": "markdown",
   "id": "2a4c4c4b-30aa-4eb3-8f2a-fe4428245ac2",
   "metadata": {},
   "source": [
    "## Sorting the Files\n",
    "\n",
    "Now, we will iterate over the files in the specified directory and move them into the corresponding folders based on their extensions.\n"
   ]
  },
  {
   "cell_type": "code",
   "execution_count": 11,
   "id": "61c02842-ebe6-4ead-a070-bc11ca02a5bc",
   "metadata": {},
   "outputs": [],
   "source": [
    "for file in file_name:\n",
    "    if file.endswith(\".xlsx\"):\n",
    "        shutil.move(path + file, path + 'xlsx files/' + file)\n",
    "    elif (file.endswith(\".jpg\") or file.endswith(\".png\")):  # Correct logical check\n",
    "        shutil.move(path + file, path + 'images files/' + file)\n",
    "    elif file.endswith(\".txt\"):\n",
    "        shutil.move(path + file, path + 'text files/' + file)"
   ]
  },
  {
   "cell_type": "markdown",
   "id": "b3a45885-229b-425b-8336-1dbbe3cb46c9",
   "metadata": {},
   "source": [
    "## Conclusion\n",
    "\n",
    "The automated file sorter successfully organizes files into designated folders based on their extensions. You can run this script whenever you need to sort files in the specified directory.\n"
   ]
  },
  {
   "cell_type": "code",
   "execution_count": null,
   "id": "3a3489c8-ffaf-4dfe-b9c6-dcc204718668",
   "metadata": {},
   "outputs": [],
   "source": []
  }
 ],
 "metadata": {
  "kernelspec": {
   "display_name": "Python 3 (ipykernel)",
   "language": "python",
   "name": "python3"
  },
  "language_info": {
   "codemirror_mode": {
    "name": "ipython",
    "version": 3
   },
   "file_extension": ".py",
   "mimetype": "text/x-python",
   "name": "python",
   "nbconvert_exporter": "python",
   "pygments_lexer": "ipython3",
   "version": "3.12.4"
  }
 },
 "nbformat": 4,
 "nbformat_minor": 5
}
